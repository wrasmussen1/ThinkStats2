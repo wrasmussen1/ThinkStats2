{
 "cells": [
  {
   "cell_type": "markdown",
   "id": "ceramic-heath",
   "metadata": {},
   "source": [
    "# Final Project DSC 530\n",
    "## Wyatt Rasmussen\n",
    "## Due: June 5th, 2021\n",
    "\n",
    "### Topic:\n",
    "College Football. In this EDA I would like to look at college football stats and see if I can find correlations between certain things and winning. With a rather large data set that tells me turnovers/game, points scored, points against, etc. I am hoping to find areas where we can statistically improve our chances of winning."
   ]
  },
  {
   "cell_type": "code",
   "execution_count": 1,
   "id": "tight-contributor",
   "metadata": {
    "scrolled": true
   },
   "outputs": [
    {
     "data": {
      "text/plain": [
       "'/Users/wrasmussen/Desktop/MastersOfDataScience/DSC530/ThinkStats2-wyatt-assignments'"
      ]
     },
     "execution_count": 1,
     "metadata": {},
     "output_type": "execute_result"
    }
   ],
   "source": [
    "%pwd"
   ]
  },
  {
   "cell_type": "code",
   "execution_count": 2,
   "id": "golden-holocaust",
   "metadata": {},
   "outputs": [],
   "source": [
    "from __future__ import print_function, division\n",
    "\n",
    "import matplotlib.pyplot as plt\n",
    "%matplotlib inline\n",
    "\n",
    "import warnings\n",
    "warnings.filterwarnings('ignore', category=FutureWarning)\n",
    "\n",
    "import numpy as np\n",
    "import pandas as pd\n",
    "\n",
    "import random\n",
    "\n",
    "import thinkstats2\n",
    "import thinkplot\n",
    "\n",
    "import statsmodels.formula.api as smf"
   ]
  },
  {
   "cell_type": "code",
   "execution_count": 3,
   "id": "uniform-recruitment",
   "metadata": {},
   "outputs": [],
   "source": [
    "cfb2020 = pd.read_csv(\"cfb20.csv\")"
   ]
  },
  {
   "cell_type": "code",
   "execution_count": 4,
   "id": "southwest-amateur",
   "metadata": {},
   "outputs": [
    {
     "data": {
      "text/html": [
       "<div>\n",
       "<style scoped>\n",
       "    .dataframe tbody tr th:only-of-type {\n",
       "        vertical-align: middle;\n",
       "    }\n",
       "\n",
       "    .dataframe tbody tr th {\n",
       "        vertical-align: top;\n",
       "    }\n",
       "\n",
       "    .dataframe thead th {\n",
       "        text-align: right;\n",
       "    }\n",
       "</style>\n",
       "<table border=\"1\" class=\"dataframe\">\n",
       "  <thead>\n",
       "    <tr style=\"text-align: right;\">\n",
       "      <th></th>\n",
       "      <th>Team</th>\n",
       "      <th>Games</th>\n",
       "      <th>Win</th>\n",
       "      <th>Loss</th>\n",
       "      <th>Off.Rank</th>\n",
       "      <th>Off.Plays</th>\n",
       "      <th>Off.Yards</th>\n",
       "      <th>Off.Yards.Play</th>\n",
       "      <th>Off.TDs</th>\n",
       "      <th>Off.Yards.per.Game</th>\n",
       "      <th>...</th>\n",
       "      <th>Average.Time.of.Possession.per.Game</th>\n",
       "      <th>Turnover.Rank</th>\n",
       "      <th>Fumbles.Recovered</th>\n",
       "      <th>Opponents.Intercepted</th>\n",
       "      <th>Turnovers.Gain</th>\n",
       "      <th>Fumbles.Lost</th>\n",
       "      <th>Interceptions.Thrown.y</th>\n",
       "      <th>Turnovers.Lost</th>\n",
       "      <th>Turnover.Margin</th>\n",
       "      <th>Avg.Turnover.Margin.per.Game</th>\n",
       "    </tr>\n",
       "  </thead>\n",
       "  <tbody>\n",
       "    <tr>\n",
       "      <th>0</th>\n",
       "      <td>Air Force (Mountain West)</td>\n",
       "      <td>6</td>\n",
       "      <td>3</td>\n",
       "      <td>3</td>\n",
       "      <td>73</td>\n",
       "      <td>373</td>\n",
       "      <td>2336</td>\n",
       "      <td>6.26</td>\n",
       "      <td>19</td>\n",
       "      <td>389.3</td>\n",
       "      <td>...</td>\n",
       "      <td>32:30</td>\n",
       "      <td>58</td>\n",
       "      <td>3</td>\n",
       "      <td>5</td>\n",
       "      <td>8</td>\n",
       "      <td>5</td>\n",
       "      <td>3</td>\n",
       "      <td>8</td>\n",
       "      <td>0</td>\n",
       "      <td>0.00</td>\n",
       "    </tr>\n",
       "    <tr>\n",
       "      <th>1</th>\n",
       "      <td>Akron (MAC)</td>\n",
       "      <td>6</td>\n",
       "      <td>1</td>\n",
       "      <td>5</td>\n",
       "      <td>121</td>\n",
       "      <td>360</td>\n",
       "      <td>1687</td>\n",
       "      <td>4.69</td>\n",
       "      <td>12</td>\n",
       "      <td>281.2</td>\n",
       "      <td>...</td>\n",
       "      <td>30:35</td>\n",
       "      <td>98</td>\n",
       "      <td>4</td>\n",
       "      <td>2</td>\n",
       "      <td>6</td>\n",
       "      <td>3</td>\n",
       "      <td>6</td>\n",
       "      <td>9</td>\n",
       "      <td>-3</td>\n",
       "      <td>-0.50</td>\n",
       "    </tr>\n",
       "    <tr>\n",
       "      <th>2</th>\n",
       "      <td>Alabama (SEC)</td>\n",
       "      <td>11</td>\n",
       "      <td>11</td>\n",
       "      <td>0</td>\n",
       "      <td>5</td>\n",
       "      <td>764</td>\n",
       "      <td>5983</td>\n",
       "      <td>7.83</td>\n",
       "      <td>68</td>\n",
       "      <td>543.9</td>\n",
       "      <td>...</td>\n",
       "      <td>30:45</td>\n",
       "      <td>12</td>\n",
       "      <td>10</td>\n",
       "      <td>11</td>\n",
       "      <td>21</td>\n",
       "      <td>7</td>\n",
       "      <td>4</td>\n",
       "      <td>11</td>\n",
       "      <td>10</td>\n",
       "      <td>0.91</td>\n",
       "    </tr>\n",
       "    <tr>\n",
       "      <th>3</th>\n",
       "      <td>App State (Sun Belt)</td>\n",
       "      <td>12</td>\n",
       "      <td>9</td>\n",
       "      <td>3</td>\n",
       "      <td>26</td>\n",
       "      <td>845</td>\n",
       "      <td>5424</td>\n",
       "      <td>6.42</td>\n",
       "      <td>49</td>\n",
       "      <td>452.0</td>\n",
       "      <td>...</td>\n",
       "      <td>32:18</td>\n",
       "      <td>57</td>\n",
       "      <td>3</td>\n",
       "      <td>15</td>\n",
       "      <td>18</td>\n",
       "      <td>6</td>\n",
       "      <td>11</td>\n",
       "      <td>17</td>\n",
       "      <td>1</td>\n",
       "      <td>0.08</td>\n",
       "    </tr>\n",
       "    <tr>\n",
       "      <th>4</th>\n",
       "      <td>Arizona (Pac-12)</td>\n",
       "      <td>5</td>\n",
       "      <td>0</td>\n",
       "      <td>5</td>\n",
       "      <td>86</td>\n",
       "      <td>373</td>\n",
       "      <td>1847</td>\n",
       "      <td>4.95</td>\n",
       "      <td>10</td>\n",
       "      <td>369.4</td>\n",
       "      <td>...</td>\n",
       "      <td>28:01</td>\n",
       "      <td>126</td>\n",
       "      <td>1</td>\n",
       "      <td>2</td>\n",
       "      <td>3</td>\n",
       "      <td>5</td>\n",
       "      <td>7</td>\n",
       "      <td>12</td>\n",
       "      <td>-9</td>\n",
       "      <td>-1.80</td>\n",
       "    </tr>\n",
       "  </tbody>\n",
       "</table>\n",
       "<p>5 rows × 152 columns</p>\n",
       "</div>"
      ],
      "text/plain": [
       "                        Team  Games  Win  Loss  Off.Rank  Off.Plays  \\\n",
       "0  Air Force (Mountain West)      6    3     3        73        373   \n",
       "1                Akron (MAC)      6    1     5       121        360   \n",
       "2              Alabama (SEC)     11   11     0         5        764   \n",
       "3       App State (Sun Belt)     12    9     3        26        845   \n",
       "4           Arizona (Pac-12)      5    0     5        86        373   \n",
       "\n",
       "   Off.Yards  Off.Yards.Play  Off.TDs  Off.Yards.per.Game  ...  \\\n",
       "0       2336            6.26       19               389.3  ...   \n",
       "1       1687            4.69       12               281.2  ...   \n",
       "2       5983            7.83       68               543.9  ...   \n",
       "3       5424            6.42       49               452.0  ...   \n",
       "4       1847            4.95       10               369.4  ...   \n",
       "\n",
       "   Average.Time.of.Possession.per.Game  Turnover.Rank  Fumbles.Recovered  \\\n",
       "0                                32:30             58                  3   \n",
       "1                                30:35             98                  4   \n",
       "2                                30:45             12                 10   \n",
       "3                                32:18             57                  3   \n",
       "4                                28:01            126                  1   \n",
       "\n",
       "   Opponents.Intercepted  Turnovers.Gain  Fumbles.Lost  \\\n",
       "0                      5               8             5   \n",
       "1                      2               6             3   \n",
       "2                     11              21             7   \n",
       "3                     15              18             6   \n",
       "4                      2               3             5   \n",
       "\n",
       "   Interceptions.Thrown.y  Turnovers.Lost  Turnover.Margin  \\\n",
       "0                       3               8                0   \n",
       "1                       6               9               -3   \n",
       "2                       4              11               10   \n",
       "3                      11              17                1   \n",
       "4                       7              12               -9   \n",
       "\n",
       "   Avg.Turnover.Margin.per.Game  \n",
       "0                          0.00  \n",
       "1                         -0.50  \n",
       "2                          0.91  \n",
       "3                          0.08  \n",
       "4                         -1.80  \n",
       "\n",
       "[5 rows x 152 columns]"
      ]
     },
     "execution_count": 4,
     "metadata": {},
     "output_type": "execute_result"
    }
   ],
   "source": [
    "cfb2020.head()"
   ]
  },
  {
   "cell_type": "markdown",
   "id": "local-playing",
   "metadata": {},
   "source": [
    "At this point I realized that I needed to rename my columns so I wouldn't have issues with periods in the names of the variables later on. I renamed the columns in the next line. This became a working list as problems came up."
   ]
  },
  {
   "cell_type": "code",
   "execution_count": 5,
   "id": "narrow-attitude",
   "metadata": {},
   "outputs": [],
   "source": [
    "cfb2020 = cfb2020.rename(columns={'First.Downs': 'FirstDowns', 'Opp.First.Downs': 'OppFirstDowns', \n",
    "                             'Penalty.Yards.Per.Game': 'PenaltyYardsPerGame', 'Turnovers.Gain': 'TurnoversGain',\n",
    "                             'Turnovers.Lost': 'TurnoversLost'})\n",
    "\n",
    "cfb2020['FirstDownPerGame'] = cfb2020['FirstDowns'] / cfb2020['Games']\n",
    "cfb2020['OppFirstDownPerGame'] = cfb2020['OppFirstDowns'] / cfb2020['Games']"
   ]
  },
  {
   "cell_type": "code",
   "execution_count": 6,
   "id": "clinical-reference",
   "metadata": {},
   "outputs": [
    {
     "name": "stdout",
     "output_type": "stream",
     "text": [
      "Team\n",
      "Games\n",
      "Win\n",
      "Loss\n",
      "Off.Rank\n",
      "Off.Plays\n",
      "Off.Yards\n",
      "Off.Yards.Play\n",
      "Off.TDs\n",
      "Off.Yards.per.Game\n",
      "Def.Rank\n",
      "Def.Plays\n",
      "Yards.Allowed\n",
      "Yards.Play.Allowed\n",
      "Off.TDs.Allowed\n",
      "Total.TDs.Allowed\n",
      "Yards.Per.Game.Allowed\n",
      "First.Down.Rank\n",
      "First.Down.Runs\n",
      "First.Down.Passes\n",
      "First.Down.Penalties\n",
      "FirstDowns\n",
      "First.Down.Def.Rank\n",
      "Opp.First.Down.Runs\n",
      "Opp.First.Down.Passes\n",
      "Opp.First.Down.Penalties\n",
      "OppFirstDowns\n",
      "X4th.Down.Rank\n",
      "X4th.Attempts\n",
      "X4th.Conversions\n",
      "X4th.Percent\n",
      "X4rd.Down.Def.Rank\n",
      "Opp.4th.Conversion\n",
      "Opp.4th.Attempt\n",
      "Opponent.4th.Percent\n",
      "Kickoff.Return.Rank\n",
      "Kickoffs.Returned\n",
      "Kickoff.Return.Yards\n",
      "Kickoff.Return.Touchdowns\n",
      "Avg.Yard.per.Kickoff.Return\n",
      "...40\n",
      "Kickoff.Return.Def.Rank\n",
      "Opp.Kickoff.Returns\n",
      "Kickoff.Touchbacks\n",
      "Opponent.Kickoff.Return.Yards\n",
      "Opp.Kickoff.Return.Touchdowns.Allowed\n",
      "Avg.Yards.per.Kickoff.Return.Allowed\n",
      "Passing.Off.Rank\n",
      "Pass.Attempts\n",
      "Pass.Completions\n",
      "Interceptions.Thrown.x\n",
      "Pass.Yards\n",
      "Pass.Yards.Attempt\n",
      "Yards.Completion\n",
      "Pass.Touchdowns\n",
      "Pass.Yards.Per.Game\n",
      "Pass.Def.Rank\n",
      "Opp.Completions.Allowed\n",
      "Opp.Pass.Attempts\n",
      "Opp.Pass.Yds.Allowed\n",
      "Opp.Pass.TDs.Allowed\n",
      "Yards.Attempt.Allowed\n",
      "Yards.Completion.Allowed\n",
      "Pass.Yards.Per.Game.Allowed\n",
      "Penalty.Rank\n",
      "Penalties\n",
      "Penalty.Yards\n",
      "PenaltyYardsPerGame\n",
      "Punt.Return.Rank\n",
      "Punt.Returns\n",
      "Net.Punt.Return.Yards\n",
      "Punt.Return.Touchdowns\n",
      "Avg.Yards.Per.Punt.Return\n",
      "Punt.Return.Def.Rank\n",
      "Opp.Punt.Returns\n",
      "Opp.Net.Punt.Return.Yards\n",
      "Opp.Punt.Return.Touchdowns.Allowed\n",
      "Avg.Yards.Allowed.per.Punt.Return\n",
      "Redzone.Off.Rank\n",
      "Redzone.Attempts\n",
      "Redzone.Rush.TD\n",
      "Redzone.Pass.TD\n",
      "Redzone.Field.Goals.Made\n",
      "Redzone.Scores\n",
      "Redzone.Points\n",
      "Redzone.Def.Rank\n",
      "Opp.Redzone.Attempts\n",
      "Opp.Redzone.Rush.TD.Allowed\n",
      "Opp.Redzone.Pass.Touchdowns.Allowed\n",
      "Opp.Redzone.Field.Goals.Made\n",
      "Opp.Redzone.Scores\n",
      "Redzone.Points.Allowed\n",
      "Rushing.Off.Rank\n",
      "Rush.Attempts\n",
      "Rush.Yds\n",
      "Yards.Rush\n",
      "Rushing.TD\n",
      "Rushing.Yards.per.Game\n",
      "Rushing.Def.Rank\n",
      "Opp.Rush.Attempts\n",
      "Opp.Rush.Yards.Alloweed\n",
      "Yds.Rush.Allowed\n",
      "Opp.Rush.Touchdowns.Allowed\n",
      "Rush.Yards.Per.Game.Allowed\n",
      "Sack.Rank\n",
      "Sacks\n",
      "Sack.Yards\n",
      "Average.Sacks.per.Game\n",
      "Scoring.Def.Rank\n",
      "Touchdowns.Allowed\n",
      "Opponent.Extra.Points\n",
      "X2.Point.Conversions.Allowed\n",
      "Opp.Deflected.Extra.Points\n",
      "Opp.Feild.Goals.Made\n",
      "Opp.Safety\n",
      "Points.Allowed\n",
      "Avg.Points.per.Game.Allowed\n",
      "Scoring.Off.Rank\n",
      "Touchdowns\n",
      "PAT\n",
      "X2.Point.Conversions\n",
      "Defensive.Points\n",
      "Feild.Goals\n",
      "Safety\n",
      "Total.Points\n",
      "Points.Per.Game\n",
      "Tackle.for.Loss.Rank\n",
      "Solo.Tackle.For.Loss\n",
      "Assist.Tackle.For.Loss\n",
      "Tackle.for.Loss.Yards\n",
      "Total.Tackle.For.Loss\n",
      "Tackle.For.Loss.Per.Game\n",
      "X3rd.Down.Rank\n",
      "X3rd.Attempts\n",
      "X3rd.Conversions\n",
      "X3rd.Percent\n",
      "X3rd.Down.Def.Rank\n",
      "Opp.3rd.Conversion\n",
      "Opp.3rd.Attempt\n",
      "Opponent.3rd.Percent\n",
      "Time.of.Possession.Rank\n",
      "Time.of.Possession\n",
      "Average.Time.of.Possession.per.Game\n",
      "Turnover.Rank\n",
      "Fumbles.Recovered\n",
      "Opponents.Intercepted\n",
      "TurnoversGain\n",
      "Fumbles.Lost\n",
      "Interceptions.Thrown.y\n",
      "TurnoversLost\n",
      "Turnover.Margin\n",
      "Avg.Turnover.Margin.per.Game\n",
      "FirstDownPerGame\n",
      "OppFirstDownPerGame\n"
     ]
    }
   ],
   "source": [
    "for col_name in cfb2020.columns: \n",
    "    print(col_name)"
   ]
  },
  {
   "cell_type": "markdown",
   "id": "virgin-uganda",
   "metadata": {},
   "source": [
    "In the dataset above I plan to use Win, Loss, FirstDowns, OppFirstDowns, PenaltyYardsPerGame, TurnoversGain, TurnoversLost as a starting point for variables I would like to work with. This may expand as I begin to work with the data, but as a starting point this should accomplish what I am hoping to accomplish."
   ]
  },
  {
   "cell_type": "markdown",
   "id": "labeled-scanner",
   "metadata": {},
   "source": [
    "### Describing the Variables\n",
    "\n",
    "* Win is the amount of wins that a team has in one year\n",
    "* Loss is the amount of losses that a team has in one year\n",
    "* FirstDownPerGame is the amount of first downs that a team gets in a per game basis, offense related stat\n",
    "* OppFirstDownPerGame is the amount of first downs that a team lets up in a per game basis, defense related stat\n",
    "* PenaltyYardsPerGame is the amount of yards from accepted penalties that a team has enforced on them\n",
    "* TurnoversGain is the sum of the amount of fumbles recovered and interceptions caught by one team\n",
    "* TurnoversLost is the sum of the amount of fumbles lost and interceptions thrown by one team"
   ]
  },
  {
   "cell_type": "markdown",
   "id": "aging-wiring",
   "metadata": {},
   "source": [
    "## Histograms"
   ]
  },
  {
   "cell_type": "code",
   "execution_count": 7,
   "id": "identical-hamburg",
   "metadata": {},
   "outputs": [
    {
     "data": {
      "text/plain": [
       "(array([ 9.,  8., 18., 22., 16., 13., 15.,  7.,  9.,  5.,  2.,  3.]),\n",
       " array([ 0.        ,  0.91666667,  1.83333333,  2.75      ,  3.66666667,\n",
       "         4.58333333,  5.5       ,  6.41666667,  7.33333333,  8.25      ,\n",
       "         9.16666667, 10.08333333, 11.        ]),\n",
       " <BarContainer object of 12 artists>)"
      ]
     },
     "execution_count": 7,
     "metadata": {},
     "output_type": "execute_result"
    },
    {
     "data": {
      "image/png": "[encoded data removed]",
      "text/plain": [
       "<Figure size 432x288 with 1 Axes>"
      ]
     },
     "metadata": {
      "needs_background": "light"
     },
     "output_type": "display_data"
    }
   ],
   "source": [
    "# Histogram of the wins\n",
    "\n",
    "plt.hist(cfb2020.Win, 12)"
   ]
  },
  {
   "cell_type": "code",
   "execution_count": 8,
   "id": "english-classics",
   "metadata": {},
   "outputs": [
    {
     "data": {
      "text/plain": [
       "(array([ 5., 15., 15., 20., 18., 20., 16., 10.,  2.,  6.]),\n",
       " array([ 0.,  1.,  2.,  3.,  4.,  5.,  6.,  7.,  8.,  9., 10.]),\n",
       " <BarContainer object of 10 artists>)"
      ]
     },
     "execution_count": 8,
     "metadata": {},
     "output_type": "execute_result"
    },
    {
     "data": {
      "image/png": "[encoded data removed]",
      "text/plain": [
       "<Figure size 432x288 with 1 Axes>"
      ]
     },
     "metadata": {
      "needs_background": "light"
     },
     "output_type": "display_data"
    }
   ],
   "source": [
    "# Histogram of the loss\n",
    "\n",
    "plt.hist(cfb2020.Loss, 10)"
   ]
  },
  {
   "cell_type": "code",
   "execution_count": 9,
   "id": "cathedral-coffee",
   "metadata": {},
   "outputs": [
    {
     "data": {
      "text/plain": [
       "(array([ 2.,  0.,  2.,  1.,  3.,  5., 12.,  8.,  9., 11., 12., 11., 12.,\n",
       "        14., 11.,  4.,  3.,  4.,  1.,  2.]),\n",
       " array([13.33333333, 14.04666667, 14.76      , 15.47333333, 16.18666667,\n",
       "        16.9       , 17.61333333, 18.32666667, 19.04      , 19.75333333,\n",
       "        20.46666667, 21.18      , 21.89333333, 22.60666667, 23.32      ,\n",
       "        24.03333333, 24.74666667, 25.46      , 26.17333333, 26.88666667,\n",
       "        27.6       ]),\n",
       " <BarContainer object of 20 artists>)"
      ]
     },
     "execution_count": 9,
     "metadata": {},
     "output_type": "execute_result"
    },
    {
     "data": {
      "image/png": "[encoded data removed]",
      "text/plain": [
       "<Figure size 432x288 with 1 Axes>"
      ]
     },
     "metadata": {
      "needs_background": "light"
     },
     "output_type": "display_data"
    }
   ],
   "source": [
    "# Histogram of the first downs\n",
    "\n",
    "plt.hist(cfb2020.FirstDownPerGame, 20)"
   ]
  },
  {
   "cell_type": "code",
   "execution_count": 10,
   "id": "obvious-aerospace",
   "metadata": {},
   "outputs": [
    {
     "data": {
      "text/plain": [
       "(array([ 2.,  0.,  2.,  1.,  3.,  5., 12.,  8.,  9., 11., 12., 11., 12.,\n",
       "        14., 11.,  4.,  3.,  4.,  1.,  2.]),\n",
       " array([13.33333333, 14.04666667, 14.76      , 15.47333333, 16.18666667,\n",
       "        16.9       , 17.61333333, 18.32666667, 19.04      , 19.75333333,\n",
       "        20.46666667, 21.18      , 21.89333333, 22.60666667, 23.32      ,\n",
       "        24.03333333, 24.74666667, 25.46      , 26.17333333, 26.88666667,\n",
       "        27.6       ]),\n",
       " <BarContainer object of 20 artists>)"
      ]
     },
     "execution_count": 10,
     "metadata": {},
     "output_type": "execute_result"
    },
    {
     "data": {
      "image/png": "[encoded data removed]",
      "text/plain": [
       "<Figure size 432x288 with 1 Axes>"
      ]
     },
     "metadata": {
      "needs_background": "light"
     },
     "output_type": "display_data"
    }
   ],
   "source": [
    "# Histogram of the opponents first downs, I knew this would be identical to the previous one because if you get a\n",
    "# first down the other team gives one up\n",
    "\n",
    "plt.hist(cfb2020.OppFirstDownPerGame, 20)"
   ]
  },
  {
   "cell_type": "code",
   "execution_count": 11,
   "id": "round-reflection",
   "metadata": {},
   "outputs": [
    {
     "data": {
      "text/plain": [
       "(array([ 1.,  1.,  4., 11., 13., 21., 18., 13., 13.,  7.,  7.,  6.,  7.,\n",
       "         2.,  3.]),\n",
       " array([23.8  , 27.902, 32.004, 36.106, 40.208, 44.31 , 48.412, 52.514,\n",
       "        56.616, 60.718, 64.82 , 68.922, 73.024, 77.126, 81.228, 85.33 ]),\n",
       " <BarContainer object of 15 artists>)"
      ]
     },
     "execution_count": 11,
     "metadata": {},
     "output_type": "execute_result"
    },
    {
     "data": {
      "image/png": "[encoded data removed]",
      "text/plain": [
       "<Figure size 432x288 with 1 Axes>"
      ]
     },
     "metadata": {
      "needs_background": "light"
     },
     "output_type": "display_data"
    }
   ],
   "source": [
    "# Histogram of the first downs\n",
    "\n",
    "plt.hist(cfb2020.PenaltyYardsPerGame, 15)"
   ]
  },
  {
   "cell_type": "code",
   "execution_count": 12,
   "id": "checked-german",
   "metadata": {},
   "outputs": [
    {
     "data": {
      "text/plain": [
       "(array([ 2.,  5.,  3.,  4., 10.,  7.,  9.,  7., 14.,  9., 10.,  5., 14.,\n",
       "        11.,  3.,  5.,  7.,  0.,  1.,  1.]),\n",
       " array([ 1.  ,  2.25,  3.5 ,  4.75,  6.  ,  7.25,  8.5 ,  9.75, 11.  ,\n",
       "        12.25, 13.5 , 14.75, 16.  , 17.25, 18.5 , 19.75, 21.  , 22.25,\n",
       "        23.5 , 24.75, 26.  ]),\n",
       " <BarContainer object of 20 artists>)"
      ]
     },
     "execution_count": 12,
     "metadata": {},
     "output_type": "execute_result"
    },
    {
     "data": {
      "image/png": "[encoded data removed]",
      "text/plain": [
       "<Figure size 432x288 with 1 Axes>"
      ]
     },
     "metadata": {
      "needs_background": "light"
     },
     "output_type": "display_data"
    }
   ],
   "source": [
    "# Histogram of the turnovers gained\n",
    "\n",
    "plt.hist(cfb2020.TurnoversGain, 20)"
   ]
  },
  {
   "cell_type": "code",
   "execution_count": 13,
   "id": "acute-trigger",
   "metadata": {},
   "outputs": [
    {
     "data": {
      "text/plain": [
       "(array([ 4.,  7.,  9., 20., 17., 21.,  8., 19., 10.,  6.,  2.,  1.,  2.,\n",
       "         0.,  0.,  0.,  0.,  0.,  0.,  1.]),\n",
       " array([ 2.  ,  3.85,  5.7 ,  7.55,  9.4 , 11.25, 13.1 , 14.95, 16.8 ,\n",
       "        18.65, 20.5 , 22.35, 24.2 , 26.05, 27.9 , 29.75, 31.6 , 33.45,\n",
       "        35.3 , 37.15, 39.  ]),\n",
       " <BarContainer object of 20 artists>)"
      ]
     },
     "execution_count": 13,
     "metadata": {},
     "output_type": "execute_result"
    },
    {
     "data": {
      "image/png": "[encoded data removed]",
      "text/plain": [
       "<Figure size 432x288 with 1 Axes>"
      ]
     },
     "metadata": {
      "needs_background": "light"
     },
     "output_type": "display_data"
    }
   ],
   "source": [
    "# Histogram of the turnovers lost\n",
    "\n",
    "plt.hist(cfb2020.TurnoversLost, 20)"
   ]
  },
  {
   "cell_type": "markdown",
   "id": "exotic-disposal",
   "metadata": {},
   "source": [
    "### Summary\n",
    "\n",
    "There doesn't appear to be many outliers in the data besides in the TurnoversLost histogram. This datapoint is over 10 away from other data points which means it probably shouldn't be used in the rest of the analysis done with that variable.\n",
    "\n",
    "Other than that we see a lot of what was expected. A fairly normal distribution for wins, losses, first downs, and penalties."
   ]
  },
  {
   "cell_type": "markdown",
   "id": "above-jacob",
   "metadata": {},
   "source": [
    "## Desciptive Statistics"
   ]
  },
  {
   "cell_type": "code",
   "execution_count": 14,
   "id": "meaning-prayer",
   "metadata": {},
   "outputs": [
    {
     "data": {
      "text/plain": [
       "count    127.000000\n",
       "mean       4.314961\n",
       "std        2.704202\n",
       "min        0.000000\n",
       "25%        2.000000\n",
       "50%        4.000000\n",
       "75%        6.000000\n",
       "max       11.000000\n",
       "Name: Win, dtype: float64"
      ]
     },
     "execution_count": 14,
     "metadata": {},
     "output_type": "execute_result"
    }
   ],
   "source": [
    "cfb2020['Win'].describe()"
   ]
  },
  {
   "cell_type": "code",
   "execution_count": 15,
   "id": "third-jerusalem",
   "metadata": {},
   "outputs": [
    {
     "data": {
      "text/plain": [
       "count    127.000000\n",
       "mean       4.062992\n",
       "std        2.329071\n",
       "min        0.000000\n",
       "25%        2.000000\n",
       "50%        4.000000\n",
       "75%        6.000000\n",
       "max       10.000000\n",
       "Name: Loss, dtype: float64"
      ]
     },
     "execution_count": 15,
     "metadata": {},
     "output_type": "execute_result"
    }
   ],
   "source": [
    "cfb2020['Loss'].describe()"
   ]
  },
  {
   "cell_type": "code",
   "execution_count": 16,
   "id": "streaming-combine",
   "metadata": {},
   "outputs": [
    {
     "data": {
      "text/plain": [
       "count    127.000000\n",
       "mean      20.961470\n",
       "std        2.815070\n",
       "min       13.333333\n",
       "25%       18.752525\n",
       "50%       21.000000\n",
       "75%       22.950000\n",
       "max       27.600000\n",
       "Name: FirstDownPerGame, dtype: float64"
      ]
     },
     "execution_count": 16,
     "metadata": {},
     "output_type": "execute_result"
    }
   ],
   "source": [
    "cfb2020['FirstDownPerGame'].describe()"
   ]
  },
  {
   "cell_type": "code",
   "execution_count": 17,
   "id": "disciplinary-purpose",
   "metadata": {},
   "outputs": [
    {
     "data": {
      "text/plain": [
       "count    127.000000\n",
       "mean      20.961470\n",
       "std        2.815070\n",
       "min       13.333333\n",
       "25%       18.752525\n",
       "50%       21.000000\n",
       "75%       22.950000\n",
       "max       27.600000\n",
       "Name: OppFirstDownPerGame, dtype: float64"
      ]
     },
     "execution_count": 17,
     "metadata": {},
     "output_type": "execute_result"
    }
   ],
   "source": [
    "cfb2020['OppFirstDownPerGame'].describe()"
   ]
  },
  {
   "cell_type": "code",
   "execution_count": 18,
   "id": "continuing-denver",
   "metadata": {},
   "outputs": [
    {
     "data": {
      "text/plain": [
       "count    127.000000\n",
       "mean      53.532835\n",
       "std       12.435494\n",
       "min       23.800000\n",
       "25%       45.465000\n",
       "50%       51.330000\n",
       "75%       60.780000\n",
       "max       85.330000\n",
       "Name: PenaltyYardsPerGame, dtype: float64"
      ]
     },
     "execution_count": 18,
     "metadata": {},
     "output_type": "execute_result"
    }
   ],
   "source": [
    "cfb2020['PenaltyYardsPerGame'].describe()"
   ]
  },
  {
   "cell_type": "code",
   "execution_count": 19,
   "id": "seasonal-midwest",
   "metadata": {},
   "outputs": [
    {
     "data": {
      "text/plain": [
       "count    127.000000\n",
       "mean      12.598425\n",
       "std        5.426654\n",
       "min        1.000000\n",
       "25%        9.000000\n",
       "50%       13.000000\n",
       "75%       17.000000\n",
       "max       26.000000\n",
       "Name: TurnoversGain, dtype: float64"
      ]
     },
     "execution_count": 19,
     "metadata": {},
     "output_type": "execute_result"
    }
   ],
   "source": [
    "cfb2020['TurnoversGain'].describe()"
   ]
  },
  {
   "cell_type": "code",
   "execution_count": 20,
   "id": "passing-solution",
   "metadata": {},
   "outputs": [
    {
     "data": {
      "text/plain": [
       "count    127.000000\n",
       "mean      12.322835\n",
       "std        5.306303\n",
       "min        2.000000\n",
       "25%        9.000000\n",
       "50%       12.000000\n",
       "75%       16.000000\n",
       "max       39.000000\n",
       "Name: TurnoversLost, dtype: float64"
      ]
     },
     "execution_count": 20,
     "metadata": {},
     "output_type": "execute_result"
    }
   ],
   "source": [
    "cfb2020['TurnoversLost'].describe()"
   ]
  },
  {
   "cell_type": "markdown",
   "id": "metric-aerospace",
   "metadata": {},
   "source": [
    "## PMFs"
   ]
  },
  {
   "cell_type": "code",
   "execution_count": 21,
   "id": "instant-mathematics",
   "metadata": {},
   "outputs": [],
   "source": [
    "WinningRecord = cfb2020[cfb2020.Win >= cfb2020.Loss]\n",
    "LosingRecord = cfb2020[cfb2020.Win < cfb2020.Loss]"
   ]
  },
  {
   "cell_type": "code",
   "execution_count": 22,
   "id": "clear-daisy",
   "metadata": {},
   "outputs": [
    {
     "data": {
      "text/html": [
       "<div>\n",
       "<style scoped>\n",
       "    .dataframe tbody tr th:only-of-type {\n",
       "        vertical-align: middle;\n",
       "    }\n",
       "\n",
       "    .dataframe tbody tr th {\n",
       "        vertical-align: top;\n",
       "    }\n",
       "\n",
       "    .dataframe thead th {\n",
       "        text-align: right;\n",
       "    }\n",
       "</style>\n",
       "<table border=\"1\" class=\"dataframe\">\n",
       "  <thead>\n",
       "    <tr style=\"text-align: right;\">\n",
       "      <th></th>\n",
       "      <th>Team</th>\n",
       "      <th>Games</th>\n",
       "      <th>Win</th>\n",
       "      <th>Loss</th>\n",
       "      <th>Off.Rank</th>\n",
       "      <th>Off.Plays</th>\n",
       "      <th>Off.Yards</th>\n",
       "      <th>Off.Yards.Play</th>\n",
       "      <th>Off.TDs</th>\n",
       "      <th>Off.Yards.per.Game</th>\n",
       "      <th>...</th>\n",
       "      <th>Fumbles.Recovered</th>\n",
       "      <th>Opponents.Intercepted</th>\n",
       "      <th>TurnoversGain</th>\n",
       "      <th>Fumbles.Lost</th>\n",
       "      <th>Interceptions.Thrown.y</th>\n",
       "      <th>TurnoversLost</th>\n",
       "      <th>Turnover.Margin</th>\n",
       "      <th>Avg.Turnover.Margin.per.Game</th>\n",
       "      <th>FirstDownPerGame</th>\n",
       "      <th>OppFirstDownPerGame</th>\n",
       "    </tr>\n",
       "  </thead>\n",
       "  <tbody>\n",
       "    <tr>\n",
       "      <th>0</th>\n",
       "      <td>Air Force (Mountain West)</td>\n",
       "      <td>6</td>\n",
       "      <td>3</td>\n",
       "      <td>3</td>\n",
       "      <td>73</td>\n",
       "      <td>373</td>\n",
       "      <td>2336</td>\n",
       "      <td>6.26</td>\n",
       "      <td>19</td>\n",
       "      <td>389.3</td>\n",
       "      <td>...</td>\n",
       "      <td>3</td>\n",
       "      <td>5</td>\n",
       "      <td>8</td>\n",
       "      <td>5</td>\n",
       "      <td>3</td>\n",
       "      <td>8</td>\n",
       "      <td>0</td>\n",
       "      <td>0.00</td>\n",
       "      <td>17.666667</td>\n",
       "      <td>17.666667</td>\n",
       "    </tr>\n",
       "    <tr>\n",
       "      <th>2</th>\n",
       "      <td>Alabama (SEC)</td>\n",
       "      <td>11</td>\n",
       "      <td>11</td>\n",
       "      <td>0</td>\n",
       "      <td>5</td>\n",
       "      <td>764</td>\n",
       "      <td>5983</td>\n",
       "      <td>7.83</td>\n",
       "      <td>68</td>\n",
       "      <td>543.9</td>\n",
       "      <td>...</td>\n",
       "      <td>10</td>\n",
       "      <td>11</td>\n",
       "      <td>21</td>\n",
       "      <td>7</td>\n",
       "      <td>4</td>\n",
       "      <td>11</td>\n",
       "      <td>10</td>\n",
       "      <td>0.91</td>\n",
       "      <td>19.636364</td>\n",
       "      <td>19.636364</td>\n",
       "    </tr>\n",
       "    <tr>\n",
       "      <th>3</th>\n",
       "      <td>App State (Sun Belt)</td>\n",
       "      <td>12</td>\n",
       "      <td>9</td>\n",
       "      <td>3</td>\n",
       "      <td>26</td>\n",
       "      <td>845</td>\n",
       "      <td>5424</td>\n",
       "      <td>6.42</td>\n",
       "      <td>49</td>\n",
       "      <td>452.0</td>\n",
       "      <td>...</td>\n",
       "      <td>3</td>\n",
       "      <td>15</td>\n",
       "      <td>18</td>\n",
       "      <td>6</td>\n",
       "      <td>11</td>\n",
       "      <td>17</td>\n",
       "      <td>1</td>\n",
       "      <td>0.08</td>\n",
       "      <td>18.583333</td>\n",
       "      <td>18.583333</td>\n",
       "    </tr>\n",
       "    <tr>\n",
       "      <th>5</th>\n",
       "      <td>Arizona St. (Pac-12)</td>\n",
       "      <td>4</td>\n",
       "      <td>2</td>\n",
       "      <td>2</td>\n",
       "      <td>20</td>\n",
       "      <td>252</td>\n",
       "      <td>1834</td>\n",
       "      <td>7.28</td>\n",
       "      <td>21</td>\n",
       "      <td>458.5</td>\n",
       "      <td>...</td>\n",
       "      <td>8</td>\n",
       "      <td>5</td>\n",
       "      <td>13</td>\n",
       "      <td>4</td>\n",
       "      <td>1</td>\n",
       "      <td>5</td>\n",
       "      <td>8</td>\n",
       "      <td>2.00</td>\n",
       "      <td>23.250000</td>\n",
       "      <td>23.250000</td>\n",
       "    </tr>\n",
       "    <tr>\n",
       "      <th>8</th>\n",
       "      <td>Army West Point (FBS Independent)</td>\n",
       "      <td>11</td>\n",
       "      <td>9</td>\n",
       "      <td>2</td>\n",
       "      <td>112</td>\n",
       "      <td>727</td>\n",
       "      <td>3574</td>\n",
       "      <td>4.92</td>\n",
       "      <td>37</td>\n",
       "      <td>324.9</td>\n",
       "      <td>...</td>\n",
       "      <td>5</td>\n",
       "      <td>13</td>\n",
       "      <td>18</td>\n",
       "      <td>8</td>\n",
       "      <td>5</td>\n",
       "      <td>13</td>\n",
       "      <td>5</td>\n",
       "      <td>0.45</td>\n",
       "      <td>13.363636</td>\n",
       "      <td>13.363636</td>\n",
       "    </tr>\n",
       "  </tbody>\n",
       "</table>\n",
       "<p>5 rows × 154 columns</p>\n",
       "</div>"
      ],
      "text/plain": [
       "                                Team  Games  Win  Loss  Off.Rank  Off.Plays  \\\n",
       "0          Air Force (Mountain West)      6    3     3        73        373   \n",
       "2                      Alabama (SEC)     11   11     0         5        764   \n",
       "3               App State (Sun Belt)     12    9     3        26        845   \n",
       "5               Arizona St. (Pac-12)      4    2     2        20        252   \n",
       "8  Army West Point (FBS Independent)     11    9     2       112        727   \n",
       "\n",
       "   Off.Yards  Off.Yards.Play  Off.TDs  Off.Yards.per.Game  ...  \\\n",
       "0       2336            6.26       19               389.3  ...   \n",
       "2       5983            7.83       68               543.9  ...   \n",
       "3       5424            6.42       49               452.0  ...   \n",
       "5       1834            7.28       21               458.5  ...   \n",
       "8       3574            4.92       37               324.9  ...   \n",
       "\n",
       "   Fumbles.Recovered  Opponents.Intercepted  TurnoversGain  Fumbles.Lost  \\\n",
       "0                  3                      5              8             5   \n",
       "2                 10                     11             21             7   \n",
       "3                  3                     15             18             6   \n",
       "5                  8                      5             13             4   \n",
       "8                  5                     13             18             8   \n",
       "\n",
       "   Interceptions.Thrown.y  TurnoversLost  Turnover.Margin  \\\n",
       "0                       3              8                0   \n",
       "2                       4             11               10   \n",
       "3                      11             17                1   \n",
       "5                       1              5                8   \n",
       "8                       5             13                5   \n",
       "\n",
       "   Avg.Turnover.Margin.per.Game  FirstDownPerGame  OppFirstDownPerGame  \n",
       "0                          0.00         17.666667            17.666667  \n",
       "2                          0.91         19.636364            19.636364  \n",
       "3                          0.08         18.583333            18.583333  \n",
       "5                          2.00         23.250000            23.250000  \n",
       "8                          0.45         13.363636            13.363636  \n",
       "\n",
       "[5 rows x 154 columns]"
      ]
     },
     "execution_count": 22,
     "metadata": {},
     "output_type": "execute_result"
    }
   ],
   "source": [
    "# checking to see if the data was properly separated\n",
    "\n",
    "WinningRecord.head()"
   ]
  },
  {
   "cell_type": "code",
   "execution_count": 23,
   "id": "numeric-devil",
   "metadata": {},
   "outputs": [
    {
     "data": {
      "text/plain": [
       "Pmf({3: 0.1732283464566929, 2: 0.14173228346456693, 4: 0.12598425196850394, 6: 0.11811023622047244, 5: 0.10236220472440945, 0: 0.07086614173228346, 8: 0.07086614173228346, 1: 0.06299212598425197, 7: 0.05511811023622047, 9: 0.03937007874015748, 11: 0.023622047244094488, 10: 0.015748031496062992})"
      ]
     },
     "execution_count": 23,
     "metadata": {},
     "output_type": "execute_result"
    }
   ],
   "source": [
    "pmf = thinkstats2.Pmf(cfb2020.Win)\n",
    "pmf\n"
   ]
  },
  {
   "cell_type": "code",
   "execution_count": 61,
   "id": "needed-phone",
   "metadata": {},
   "outputs": [
    {
     "data": {
      "text/plain": [
       "Pmf({12: 0.0847457627118644, 9: 0.0847457627118644, 11: 0.0847457627118644, 10: 0.0847457627118644, 6: 0.06779661016949153, 14: 0.06779661016949153, 7: 0.05084745762711865, 8: 0.05084745762711865, 5: 0.05084745762711865, 4: 0.05084745762711865, 3: 0.05084745762711865, 13: 0.05084745762711865, 18: 0.05084745762711865, 15: 0.03389830508474576, 20: 0.03389830508474576, 17: 0.03389830508474576, 19: 0.01694915254237288, 1: 0.01694915254237288, 16: 0.01694915254237288, 24: 0.01694915254237288}, 'LosingRecord')"
      ]
     },
     "execution_count": 61,
     "metadata": {},
     "output_type": "execute_result"
    }
   ],
   "source": [
    "pmf = thinkstats2.Pmf(WinningRecord.TurnoversGain, label='WinningRecord')\n",
    "pmf1 = thinkstats2.Pmf(LosingRecord.TurnoversGain, label='LosingRecord')\n",
    "pmf\n",
    "pmf1"
   ]
  },
  {
   "cell_type": "code",
   "execution_count": 63,
   "id": "developmental-stevens",
   "metadata": {},
   "outputs": [
    {
     "data": {
      "image/png": "[encoded data removed]",
      "text/plain": [
       "<Figure size 432x288 with 1 Axes>"
      ]
     },
     "metadata": {
      "needs_background": "light"
     },
     "output_type": "display_data"
    }
   ],
   "source": [
    "thinkplot.Pmf(pmf)\n",
    "thinkplot.Config(xlabel='Turnovers Gain', ylabel='Pmf')"
   ]
  },
  {
   "cell_type": "code",
   "execution_count": 64,
   "id": "guided-handy",
   "metadata": {},
   "outputs": [
    {
     "data": {
      "image/png": "[encoded data removed]",
      "text/plain": [
       "<Figure size 432x288 with 1 Axes>"
      ]
     },
     "metadata": {
      "needs_background": "light"
     },
     "output_type": "display_data"
    }
   ],
   "source": [
    "thinkplot.Pmf(pmf1)\n",
    "thinkplot.Config(xlabel='Turnovers Gain', ylabel='Pmf')"
   ]
  },
  {
   "cell_type": "markdown",
   "id": "better-bishop",
   "metadata": {},
   "source": [
    "## CDFs"
   ]
  },
  {
   "cell_type": "code",
   "execution_count": 26,
   "id": "numeric-musical",
   "metadata": {},
   "outputs": [],
   "source": [
    "WinningRecord = cfb2020[cfb2020.Win >= cfb2020.Loss]\n",
    "LosingRecord = cfb2020[cfb2020.Win < cfb2020.Loss]"
   ]
  },
  {
   "cell_type": "code",
   "execution_count": 65,
   "id": "charitable-tunnel",
   "metadata": {
    "scrolled": true
   },
   "outputs": [
    {
     "data": {
      "image/png": "[encoded data removed]",
      "text/plain": [
       "<Figure size 432x288 with 1 Axes>"
      ]
     },
     "metadata": {
      "needs_background": "light"
     },
     "output_type": "display_data"
    },
    {
     "data": {
      "text/plain": [
       "<Figure size 576x432 with 0 Axes>"
      ]
     },
     "metadata": {},
     "output_type": "display_data"
    }
   ],
   "source": [
    "cdf = thinkstats2.Cdf(WinningRecord.TurnoversGain, label='WinningRecord')\n",
    "\n",
    "thinkplot.Cdf(cdf)\n",
    "thinkplot.Show(xlabel='Turnovers Gained', ylabel='CDF')"
   ]
  },
  {
   "cell_type": "code",
   "execution_count": 66,
   "id": "restricted-marine",
   "metadata": {},
   "outputs": [
    {
     "data": {
      "image/png": "[encoded data removed]",
      "text/plain": [
       "<Figure size 432x288 with 1 Axes>"
      ]
     },
     "metadata": {
      "needs_background": "light"
     },
     "output_type": "display_data"
    },
    {
     "data": {
      "text/plain": [
       "<Figure size 576x432 with 0 Axes>"
      ]
     },
     "metadata": {},
     "output_type": "display_data"
    }
   ],
   "source": [
    "cdf = thinkstats2.Cdf(LosingRecord.TurnoversGain, label='LosingRecord')\n",
    "\n",
    "thinkplot.Cdf(cdf)\n",
    "thinkplot.Show(xlabel='Turnovers Gained', ylabel='CDF')"
   ]
  },
  {
   "cell_type": "markdown",
   "id": "naval-taste",
   "metadata": {},
   "source": [
    "### Summary\n",
    "\n",
    "By creating two CDFs that compare the wins for under the mean of penalty yards per game and over the mean for penalty yards per game we can conclude that being under the mean helps win football games."
   ]
  },
  {
   "cell_type": "markdown",
   "id": "perceived-diversity",
   "metadata": {},
   "source": [
    "## Analytical Distribution"
   ]
  },
  {
   "cell_type": "code",
   "execution_count": 29,
   "id": "written-kuwait",
   "metadata": {},
   "outputs": [],
   "source": [
    "# probability plot\n",
    "\n",
    "def MakeNormalPlot(TurnoversGain):\n",
    "    mean = WinningRecord.TurnoversGain.mean()\n",
    "    std = WinningRecord.TurnoversGain.std()\n",
    "    \n",
    "    xs = [-4,4]\n",
    "    fxs, fys = thinkstats2.FitLine(xs, inter=mean, slope=std)\n",
    "    thinkplot.Plot(fxs, fys, color='gray', label='model')\n",
    "    \n",
    "    xs, ys = thinkstats2.NormalProbability(WinningRecord.TurnoversGain)\n",
    "    thinkplot.Plot(xs, ys, label='Turnovers')"
   ]
  },
  {
   "cell_type": "code",
   "execution_count": 30,
   "id": "statewide-softball",
   "metadata": {},
   "outputs": [
    {
     "data": {
      "image/png": "[encoded data removed]",
      "text/plain": [
       "<Figure size 432x288 with 1 Axes>"
      ]
     },
     "metadata": {
      "needs_background": "light"
     },
     "output_type": "display_data"
    }
   ],
   "source": [
    "MakeNormalPlot(WinningRecord.TurnoversGain)"
   ]
  },
  {
   "cell_type": "code",
   "execution_count": 31,
   "id": "bridal-developer",
   "metadata": {},
   "outputs": [],
   "source": [
    "def MakeLogNormalPlot(TurnoversGain):\n",
    "    mean = WinningRecord.TurnoversGain.mean()\n",
    "    std = WinningRecord.TurnoversGain.std()\n",
    "    \n",
    "    xs = [-4,4]\n",
    "    fxs, fys = thinkstats2.FitLine(xs, inter=mean, slope=std)\n",
    "    thinkplot.Plot(fxs, fys, color='gray', label='model', scaley='log')\n",
    "    \n",
    "    xs, ys = thinkstats2.NormalProbability(WinningRecord.TurnoversGain)\n",
    "    thinkplot.Plot(xs, ys, label='Turnovers', scaley='log')"
   ]
  },
  {
   "cell_type": "code",
   "execution_count": 32,
   "id": "surprised-jefferson",
   "metadata": {},
   "outputs": [
    {
     "data": {
      "image/png": "[encoded data removed]",
      "text/plain": [
       "<Figure size 432x288 with 1 Axes>"
      ]
     },
     "metadata": {
      "needs_background": "light"
     },
     "output_type": "display_data"
    }
   ],
   "source": [
    "MakeLogNormalPlot(WinningRecord.TurnoversGain)"
   ]
  },
  {
   "cell_type": "markdown",
   "id": "forward-recording",
   "metadata": {},
   "source": [
    "The log scale seems to fit this data little bit better even though we still see a tail for the WinningRecord Teams Turnovers. The Fit Line fits the data well in this case. Using the LogScale best fit line we can begin to calculate how many turnovers gained in a season will help you increase your win totals. As this is information for teams with winning records it is comparing the best teams."
   ]
  },
  {
   "cell_type": "markdown",
   "id": "increased-pharmaceutical",
   "metadata": {},
   "source": [
    "## Scatter Plots"
   ]
  },
  {
   "cell_type": "code",
   "execution_count": 75,
   "id": "becoming-mongolia",
   "metadata": {},
   "outputs": [
    {
     "data": {
      "image/png": "[encoded data removed]",
      "text/plain": [
       "<Figure size 432x288 with 1 Axes>"
      ]
     },
     "metadata": {
      "needs_background": "light"
     },
     "output_type": "display_data"
    },
    {
     "data": {
      "text/plain": [
       "<Figure size 576x432 with 0 Axes>"
      ]
     },
     "metadata": {},
     "output_type": "display_data"
    }
   ],
   "source": [
    "thinkplot.Scatter(cfb2020.Win, cfb2020.FirstDownPerGame)\n",
    "thinkplot.Show(xlabel='Wins', ylabel='First Downs Per Game', axis=[0, 12, 10, 30])"
   ]
  },
  {
   "cell_type": "code",
   "execution_count": 34,
   "id": "regional-september",
   "metadata": {},
   "outputs": [
    {
     "data": {
      "image/png": "[encoded data removed]",
      "text/plain": [
       "<Figure size 432x288 with 1 Axes>"
      ]
     },
     "metadata": {
      "needs_background": "light"
     },
     "output_type": "display_data"
    },
    {
     "data": {
      "text/plain": [
       "<Figure size 576x432 with 0 Axes>"
      ]
     },
     "metadata": {},
     "output_type": "display_data"
    }
   ],
   "source": [
    "thinkplot.Scatter(cfb2020.Win, cfb2020.TurnoversGain)\n",
    "thinkplot.Show(xlabel='Wins', ylabel='Turnovers', axis=[0, 12, 0, 30])"
   ]
  },
  {
   "cell_type": "code",
   "execution_count": 35,
   "id": "helpful-blank",
   "metadata": {},
   "outputs": [],
   "source": [
    "def Cov(xs, ys, meanx=None, meany=None):\n",
    "    xs = np.asarray(xs)\n",
    "    ys = np.asarray(ys)\n",
    "\n",
    "    if meanx is None:\n",
    "        meanx = np.mean(xs)\n",
    "    if meany is None:\n",
    "        meany = np.mean(ys)\n",
    "\n",
    "    cov = np.dot(xs-meanx, ys-meany) / len(xs)\n",
    "    return cov"
   ]
  },
  {
   "cell_type": "code",
   "execution_count": 36,
   "id": "attended-allergy",
   "metadata": {},
   "outputs": [
    {
     "data": {
      "text/plain": [
       "3.1927292454584904"
      ]
     },
     "execution_count": 36,
     "metadata": {},
     "output_type": "execute_result"
    }
   ],
   "source": [
    "Cov(cfb2020.Win, cfb2020.PenaltyYardsPerGame)"
   ]
  },
  {
   "cell_type": "code",
   "execution_count": 37,
   "id": "checked-tattoo",
   "metadata": {},
   "outputs": [],
   "source": [
    "def Corr(xs, ys):\n",
    "    xs = np.asarray(xs)\n",
    "    ys = np.asarray(ys)\n",
    "\n",
    "    meanx, varx = thinkstats2.MeanVar(xs)\n",
    "    meany, vary = thinkstats2.MeanVar(ys)\n",
    "\n",
    "    corr = Cov(xs, ys, meanx, meany) / np.sqrt(varx * vary)\n",
    "    return corr"
   ]
  },
  {
   "cell_type": "code",
   "execution_count": 38,
   "id": "royal-fifty",
   "metadata": {},
   "outputs": [
    {
     "data": {
      "text/plain": [
       "0.09569583077400552"
      ]
     },
     "execution_count": 38,
     "metadata": {},
     "output_type": "execute_result"
    }
   ],
   "source": [
    "Corr(cfb2020.Win, cfb2020.PenaltyYardsPerGame)"
   ]
  },
  {
   "cell_type": "code",
   "execution_count": 39,
   "id": "eastern-youth",
   "metadata": {},
   "outputs": [
    {
     "data": {
      "text/plain": [
       "8.646165292330585"
      ]
     },
     "execution_count": 39,
     "metadata": {},
     "output_type": "execute_result"
    }
   ],
   "source": [
    "Cov(cfb2020.Win, cfb2020.TurnoversGain)"
   ]
  },
  {
   "cell_type": "code",
   "execution_count": 40,
   "id": "funded-gregory",
   "metadata": {},
   "outputs": [
    {
     "data": {
      "text/plain": [
       "0.5938618266000544"
      ]
     },
     "execution_count": 40,
     "metadata": {},
     "output_type": "execute_result"
    }
   ],
   "source": [
    "Corr(cfb2020.Win, cfb2020.TurnoversGain)"
   ]
  },
  {
   "cell_type": "code",
   "execution_count": 41,
   "id": "convertible-consolidation",
   "metadata": {},
   "outputs": [
    {
     "data": {
      "text/plain": [
       "-3.1312290486774335"
      ]
     },
     "execution_count": 41,
     "metadata": {},
     "output_type": "execute_result"
    }
   ],
   "source": [
    "Cov(cfb2020.Win, cfb2020.FirstDownPerGame)"
   ]
  },
  {
   "cell_type": "code",
   "execution_count": 42,
   "id": "blessed-isolation",
   "metadata": {},
   "outputs": [
    {
     "data": {
      "text/plain": [
       "-0.414590692381488"
      ]
     },
     "execution_count": 42,
     "metadata": {},
     "output_type": "execute_result"
    }
   ],
   "source": [
    "Corr(cfb2020.Win, cfb2020.FirstDownPerGame)"
   ]
  },
  {
   "cell_type": "code",
   "execution_count": 58,
   "id": "danish-germany",
   "metadata": {},
   "outputs": [
    {
     "data": {
      "text/plain": [
       "0.5570353215162646"
      ]
     },
     "execution_count": 58,
     "metadata": {},
     "output_type": "execute_result"
    }
   ],
   "source": [
    "Corr(cfb2020.Loss, cfb2020.TurnoversLost)"
   ]
  },
  {
   "cell_type": "markdown",
   "id": "coated-spray",
   "metadata": {},
   "source": [
    "## Hypothesis Testing"
   ]
  },
  {
   "cell_type": "code",
   "execution_count": 43,
   "id": "parental-nature",
   "metadata": {},
   "outputs": [],
   "source": [
    "class HypothesisTest(object):\n",
    "    \n",
    "    def __init__(self, data):\n",
    "        self.data = data\n",
    "        self.MakeModel()\n",
    "        self.actual = self.TestStatistic(data)\n",
    "        \n",
    "    def PValue(self, iters=1000):\n",
    "        self.test_stat = [self.TestStatistic(self.RunModel())\n",
    "                          for _ in range(iters)]\n",
    "        \n",
    "        count = sum(1 for x in self.test_stat if x >= self.actual)\n",
    "        return count / iters\n",
    "    \n",
    "    def TestStatistic(self, data):\n",
    "        raise UnimplementedMethodException()\n",
    "        \n",
    "    def MakeModel(self):\n",
    "        pass\n",
    "    \n",
    "    def RunModel(self):\n",
    "        raise UnimplementedMethodExecption()"
   ]
  },
  {
   "cell_type": "code",
   "execution_count": 44,
   "id": "english-river",
   "metadata": {},
   "outputs": [],
   "source": [
    "class DiffMeansPermute(HypothesisTest):\n",
    "    \n",
    "    def TestStatistic(self, data):\n",
    "        group1, group2 = data\n",
    "        test_stat = abs(group1.mean()-group2.mean())\n",
    "        return test_stat\n",
    "    \n",
    "    def MakeModel(self):\n",
    "        group1, group2 = self.data\n",
    "        self.n, self.m = len(group1), len(group2)\n",
    "        self.pool = np.hstack((group1, group2))\n",
    "        \n",
    "    def RunModel(self):\n",
    "        np.random.shuffle(self.pool)\n",
    "        data = self.pool[:self.n], self.pool[self.n:]\n",
    "        return data"
   ]
  },
  {
   "cell_type": "code",
   "execution_count": 45,
   "id": "growing-pilot",
   "metadata": {},
   "outputs": [
    {
     "name": "stdout",
     "output_type": "stream",
     "text": [
      "0.07\n"
     ]
    }
   ],
   "source": [
    "data = WinningRecord.PenaltyYardsPerGame.values, LosingRecord.PenaltyYardsPerGame.values\n",
    "ht = DiffMeansPermute(data)\n",
    "pvalue = ht.PValue()\n",
    "print(pvalue)"
   ]
  },
  {
   "cell_type": "markdown",
   "id": "indian-secretariat",
   "metadata": {},
   "source": [
    "Based on our P-Value calculation between winning teams and losing teams penalty yards per game, we fail to reject the hypothesis that losing teams tend to lose because of penalties they commit during a game. A p-value of greater than 0.05 suggests that our null hypothesis is correct."
   ]
  },
  {
   "cell_type": "markdown",
   "id": "guilty-klein",
   "metadata": {},
   "source": [
    "## Regression Analysis"
   ]
  },
  {
   "cell_type": "code",
   "execution_count": 46,
   "id": "herbal-greene",
   "metadata": {},
   "outputs": [
    {
     "data": {
      "text/plain": [
       "-2.4305715526303793"
      ]
     },
     "execution_count": 46,
     "metadata": {},
     "output_type": "execute_result"
    }
   ],
   "source": [
    "diff_FDPerGame = WinningRecord.FirstDownPerGame.mean() - LosingRecord.FirstDownPerGame.mean()\n",
    "diff_FDPerGame"
   ]
  },
  {
   "cell_type": "code",
   "execution_count": 47,
   "id": "preceding-performance",
   "metadata": {},
   "outputs": [
    {
     "data": {
      "text/plain": [
       "-2.4305715526303793"
      ]
     },
     "execution_count": 47,
     "metadata": {},
     "output_type": "execute_result"
    }
   ],
   "source": [
    "diff_OppFDPerGame = WinningRecord.OppFirstDownPerGame.mean() - LosingRecord.OppFirstDownPerGame.mean()\n",
    "diff_OppFDPerGame"
   ]
  },
  {
   "cell_type": "code",
   "execution_count": 48,
   "id": "outstanding-bumper",
   "metadata": {},
   "outputs": [
    {
     "data": {
      "text/plain": [
       "3.8586615154536332"
      ]
     },
     "execution_count": 48,
     "metadata": {},
     "output_type": "execute_result"
    }
   ],
   "source": [
    "diff_PenPerGame = WinningRecord.PenaltyYardsPerGame.mean() - LosingRecord.PenaltyYardsPerGame.mean()\n",
    "diff_PenPerGame"
   ]
  },
  {
   "cell_type": "code",
   "execution_count": 49,
   "id": "distant-logan",
   "metadata": {},
   "outputs": [
    {
     "data": {
      "text/plain": [
       "3.6500498504486547"
      ]
     },
     "execution_count": 49,
     "metadata": {},
     "output_type": "execute_result"
    }
   ],
   "source": [
    "diff_TurnoversGain = WinningRecord.TurnoversGain.mean() - LosingRecord.TurnoversGain.mean()\n",
    "diff_TurnoversGain"
   ]
  },
  {
   "cell_type": "code",
   "execution_count": 50,
   "id": "limited-plain",
   "metadata": {},
   "outputs": [
    {
     "data": {
      "text/plain": [
       "-2.7524925224327017"
      ]
     },
     "execution_count": 50,
     "metadata": {},
     "output_type": "execute_result"
    }
   ],
   "source": [
    "diff_TurnoversLost = WinningRecord.TurnoversLost.mean() - LosingRecord.TurnoversLost.mean()\n",
    "diff_TurnoversLost"
   ]
  },
  {
   "cell_type": "code",
   "execution_count": 51,
   "id": "reasonable-diversity",
   "metadata": {},
   "outputs": [],
   "source": [
    "results = smf.ols('Win ~ FirstDownPerGame', data=cfb2020).fit()\n",
    "slope = results.params['FirstDownPerGame']"
   ]
  },
  {
   "cell_type": "code",
   "execution_count": 52,
   "id": "broadband-green",
   "metadata": {},
   "outputs": [
    {
     "data": {
      "text/plain": [
       "0.9680056636943482"
      ]
     },
     "execution_count": 52,
     "metadata": {},
     "output_type": "execute_result"
    }
   ],
   "source": [
    "slope * diff_FDPerGame"
   ]
  },
  {
   "cell_type": "code",
   "execution_count": 53,
   "id": "ongoing-leonard",
   "metadata": {},
   "outputs": [
    {
     "data": {
      "text/html": [
       "<table class=\"simpletable\">\n",
       "<caption>OLS Regression Results</caption>\n",
       "<tr>\n",
       "  <th>Dep. Variable:</th>           <td>Win</td>       <th>  R-squared:         </th> <td>   0.172</td>\n",
       "</tr>\n",
       "<tr>\n",
       "  <th>Model:</th>                   <td>OLS</td>       <th>  Adj. R-squared:    </th> <td>   0.165</td>\n",
       "</tr>\n",
       "<tr>\n",
       "  <th>Method:</th>             <td>Least Squares</td>  <th>  F-statistic:       </th> <td>   25.95</td>\n",
       "</tr>\n",
       "<tr>\n",
       "  <th>Date:</th>             <td>Wed, 02 Jun 2021</td> <th>  Prob (F-statistic):</th> <td>1.26e-06</td>\n",
       "</tr>\n",
       "<tr>\n",
       "  <th>Time:</th>                 <td>18:30:32</td>     <th>  Log-Likelihood:    </th> <td> -294.07</td>\n",
       "</tr>\n",
       "<tr>\n",
       "  <th>No. Observations:</th>      <td>   127</td>      <th>  AIC:               </th> <td>   592.1</td>\n",
       "</tr>\n",
       "<tr>\n",
       "  <th>Df Residuals:</th>          <td>   125</td>      <th>  BIC:               </th> <td>   597.8</td>\n",
       "</tr>\n",
       "<tr>\n",
       "  <th>Df Model:</th>              <td>     1</td>      <th>                     </th>     <td> </td>   \n",
       "</tr>\n",
       "<tr>\n",
       "  <th>Covariance Type:</th>      <td>nonrobust</td>    <th>                     </th>     <td> </td>   \n",
       "</tr>\n",
       "</table>\n",
       "<table class=\"simpletable\">\n",
       "<tr>\n",
       "          <td></td>            <th>coef</th>     <th>std err</th>      <th>t</th>      <th>P>|t|</th>  <th>[0.025</th>    <th>0.975]</th>  \n",
       "</tr>\n",
       "<tr>\n",
       "  <th>Intercept</th>        <td>   12.6631</td> <td>    1.654</td> <td>    7.658</td> <td> 0.000</td> <td>    9.391</td> <td>   15.936</td>\n",
       "</tr>\n",
       "<tr>\n",
       "  <th>FirstDownPerGame</th> <td>   -0.3983</td> <td>    0.078</td> <td>   -5.094</td> <td> 0.000</td> <td>   -0.553</td> <td>   -0.244</td>\n",
       "</tr>\n",
       "</table>\n",
       "<table class=\"simpletable\">\n",
       "<tr>\n",
       "  <th>Omnibus:</th>       <td> 4.214</td> <th>  Durbin-Watson:     </th> <td>   1.847</td>\n",
       "</tr>\n",
       "<tr>\n",
       "  <th>Prob(Omnibus):</th> <td> 0.122</td> <th>  Jarque-Bera (JB):  </th> <td>   3.585</td>\n",
       "</tr>\n",
       "<tr>\n",
       "  <th>Skew:</th>          <td> 0.316</td> <th>  Prob(JB):          </th> <td>   0.167</td>\n",
       "</tr>\n",
       "<tr>\n",
       "  <th>Kurtosis:</th>      <td> 2.472</td> <th>  Cond. No.          </th> <td>    160.</td>\n",
       "</tr>\n",
       "</table><br/><br/>Notes:<br/>[1] Standard Errors assume that the covariance matrix of the errors is correctly specified."
      ],
      "text/plain": [
       "<class 'statsmodels.iolib.summary.Summary'>\n",
       "\"\"\"\n",
       "                            OLS Regression Results                            \n",
       "==============================================================================\n",
       "Dep. Variable:                    Win   R-squared:                       0.172\n",
       "Model:                            OLS   Adj. R-squared:                  0.165\n",
       "Method:                 Least Squares   F-statistic:                     25.95\n",
       "Date:                Wed, 02 Jun 2021   Prob (F-statistic):           1.26e-06\n",
       "Time:                        18:30:32   Log-Likelihood:                -294.07\n",
       "No. Observations:                 127   AIC:                             592.1\n",
       "Df Residuals:                     125   BIC:                             597.8\n",
       "Df Model:                           1                                         \n",
       "Covariance Type:            nonrobust                                         \n",
       "====================================================================================\n",
       "                       coef    std err          t      P>|t|      [0.025      0.975]\n",
       "------------------------------------------------------------------------------------\n",
       "Intercept           12.6631      1.654      7.658      0.000       9.391      15.936\n",
       "FirstDownPerGame    -0.3983      0.078     -5.094      0.000      -0.553      -0.244\n",
       "==============================================================================\n",
       "Omnibus:                        4.214   Durbin-Watson:                   1.847\n",
       "Prob(Omnibus):                  0.122   Jarque-Bera (JB):                3.585\n",
       "Skew:                           0.316   Prob(JB):                        0.167\n",
       "Kurtosis:                       2.472   Cond. No.                         160.\n",
       "==============================================================================\n",
       "\n",
       "Notes:\n",
       "[1] Standard Errors assume that the covariance matrix of the errors is correctly specified.\n",
       "\"\"\""
      ]
     },
     "execution_count": 53,
     "metadata": {},
     "output_type": "execute_result"
    }
   ],
   "source": [
    "formula = 'Win ~ FirstDownPerGame'\n",
    "results = smf.ols(formula, data=cfb2020).fit()\n",
    "results.summary()"
   ]
  },
  {
   "cell_type": "code",
   "execution_count": 54,
   "id": "sharing-institute",
   "metadata": {},
   "outputs": [
    {
     "data": {
      "text/html": [
       "<table class=\"simpletable\">\n",
       "<caption>OLS Regression Results</caption>\n",
       "<tr>\n",
       "  <th>Dep. Variable:</th>          <td>Loss</td>       <th>  R-squared:         </th> <td>   0.199</td>\n",
       "</tr>\n",
       "<tr>\n",
       "  <th>Model:</th>                   <td>OLS</td>       <th>  Adj. R-squared:    </th> <td>   0.193</td>\n",
       "</tr>\n",
       "<tr>\n",
       "  <th>Method:</th>             <td>Least Squares</td>  <th>  F-statistic:       </th> <td>   31.08</td>\n",
       "</tr>\n",
       "<tr>\n",
       "  <th>Date:</th>             <td>Wed, 02 Jun 2021</td> <th>  Prob (F-statistic):</th> <td>1.45e-07</td>\n",
       "</tr>\n",
       "<tr>\n",
       "  <th>Time:</th>                 <td>18:30:32</td>     <th>  Log-Likelihood:    </th> <td> -272.98</td>\n",
       "</tr>\n",
       "<tr>\n",
       "  <th>No. Observations:</th>      <td>   127</td>      <th>  AIC:               </th> <td>   550.0</td>\n",
       "</tr>\n",
       "<tr>\n",
       "  <th>Df Residuals:</th>          <td>   125</td>      <th>  BIC:               </th> <td>   555.6</td>\n",
       "</tr>\n",
       "<tr>\n",
       "  <th>Df Model:</th>              <td>     1</td>      <th>                     </th>     <td> </td>   \n",
       "</tr>\n",
       "<tr>\n",
       "  <th>Covariance Type:</th>      <td>nonrobust</td>    <th>                     </th>     <td> </td>   \n",
       "</tr>\n",
       "</table>\n",
       "<table class=\"simpletable\">\n",
       "<tr>\n",
       "           <td></td>              <th>coef</th>     <th>std err</th>      <th>t</th>      <th>P>|t|</th>  <th>[0.025</th>    <th>0.975]</th>  \n",
       "</tr>\n",
       "<tr>\n",
       "  <th>Intercept</th>           <td>   -3.6763</td> <td>    1.401</td> <td>   -2.625</td> <td> 0.010</td> <td>   -6.448</td> <td>   -0.904</td>\n",
       "</tr>\n",
       "<tr>\n",
       "  <th>OppFirstDownPerGame</th> <td>    0.3692</td> <td>    0.066</td> <td>    5.575</td> <td> 0.000</td> <td>    0.238</td> <td>    0.500</td>\n",
       "</tr>\n",
       "</table>\n",
       "<table class=\"simpletable\">\n",
       "<tr>\n",
       "  <th>Omnibus:</th>       <td> 4.346</td> <th>  Durbin-Watson:     </th> <td>   1.923</td>\n",
       "</tr>\n",
       "<tr>\n",
       "  <th>Prob(Omnibus):</th> <td> 0.114</td> <th>  Jarque-Bera (JB):  </th> <td>   3.029</td>\n",
       "</tr>\n",
       "<tr>\n",
       "  <th>Skew:</th>          <td> 0.220</td> <th>  Prob(JB):          </th> <td>   0.220</td>\n",
       "</tr>\n",
       "<tr>\n",
       "  <th>Kurtosis:</th>      <td> 2.384</td> <th>  Cond. No.          </th> <td>    160.</td>\n",
       "</tr>\n",
       "</table><br/><br/>Notes:<br/>[1] Standard Errors assume that the covariance matrix of the errors is correctly specified."
      ],
      "text/plain": [
       "<class 'statsmodels.iolib.summary.Summary'>\n",
       "\"\"\"\n",
       "                            OLS Regression Results                            \n",
       "==============================================================================\n",
       "Dep. Variable:                   Loss   R-squared:                       0.199\n",
       "Model:                            OLS   Adj. R-squared:                  0.193\n",
       "Method:                 Least Squares   F-statistic:                     31.08\n",
       "Date:                Wed, 02 Jun 2021   Prob (F-statistic):           1.45e-07\n",
       "Time:                        18:30:32   Log-Likelihood:                -272.98\n",
       "No. Observations:                 127   AIC:                             550.0\n",
       "Df Residuals:                     125   BIC:                             555.6\n",
       "Df Model:                           1                                         \n",
       "Covariance Type:            nonrobust                                         \n",
       "=======================================================================================\n",
       "                          coef    std err          t      P>|t|      [0.025      0.975]\n",
       "---------------------------------------------------------------------------------------\n",
       "Intercept              -3.6763      1.401     -2.625      0.010      -6.448      -0.904\n",
       "OppFirstDownPerGame     0.3692      0.066      5.575      0.000       0.238       0.500\n",
       "==============================================================================\n",
       "Omnibus:                        4.346   Durbin-Watson:                   1.923\n",
       "Prob(Omnibus):                  0.114   Jarque-Bera (JB):                3.029\n",
       "Skew:                           0.220   Prob(JB):                        0.220\n",
       "Kurtosis:                       2.384   Cond. No.                         160.\n",
       "==============================================================================\n",
       "\n",
       "Notes:\n",
       "[1] Standard Errors assume that the covariance matrix of the errors is correctly specified.\n",
       "\"\"\""
      ]
     },
     "execution_count": 54,
     "metadata": {},
     "output_type": "execute_result"
    }
   ],
   "source": [
    "formula = 'Loss ~ OppFirstDownPerGame'\n",
    "results = smf.ols(formula, data=cfb2020).fit()\n",
    "results.summary()"
   ]
  },
  {
   "cell_type": "code",
   "execution_count": 55,
   "id": "theoretical-bankruptcy",
   "metadata": {},
   "outputs": [
    {
     "data": {
      "text/html": [
       "<table class=\"simpletable\">\n",
       "<caption>OLS Regression Results</caption>\n",
       "<tr>\n",
       "  <th>Dep. Variable:</th>          <td>Loss</td>       <th>  R-squared:         </th> <td>   0.011</td>\n",
       "</tr>\n",
       "<tr>\n",
       "  <th>Model:</th>                   <td>OLS</td>       <th>  Adj. R-squared:    </th> <td>   0.003</td>\n",
       "</tr>\n",
       "<tr>\n",
       "  <th>Method:</th>             <td>Least Squares</td>  <th>  F-statistic:       </th> <td>   1.398</td>\n",
       "</tr>\n",
       "<tr>\n",
       "  <th>Date:</th>             <td>Wed, 02 Jun 2021</td> <th>  Prob (F-statistic):</th>  <td> 0.239</td> \n",
       "</tr>\n",
       "<tr>\n",
       "  <th>Time:</th>                 <td>18:30:32</td>     <th>  Log-Likelihood:    </th> <td> -286.37</td>\n",
       "</tr>\n",
       "<tr>\n",
       "  <th>No. Observations:</th>      <td>   127</td>      <th>  AIC:               </th> <td>   576.7</td>\n",
       "</tr>\n",
       "<tr>\n",
       "  <th>Df Residuals:</th>          <td>   125</td>      <th>  BIC:               </th> <td>   582.4</td>\n",
       "</tr>\n",
       "<tr>\n",
       "  <th>Df Model:</th>              <td>     1</td>      <th>                     </th>     <td> </td>   \n",
       "</tr>\n",
       "<tr>\n",
       "  <th>Covariance Type:</th>      <td>nonrobust</td>    <th>                     </th>     <td> </td>   \n",
       "</tr>\n",
       "</table>\n",
       "<table class=\"simpletable\">\n",
       "<tr>\n",
       "           <td></td>              <th>coef</th>     <th>std err</th>      <th>t</th>      <th>P>|t|</th>  <th>[0.025</th>    <th>0.975]</th>  \n",
       "</tr>\n",
       "<tr>\n",
       "  <th>Intercept</th>           <td>    5.1173</td> <td>    0.915</td> <td>    5.590</td> <td> 0.000</td> <td>    3.306</td> <td>    6.929</td>\n",
       "</tr>\n",
       "<tr>\n",
       "  <th>PenaltyYardsPerGame</th> <td>   -0.0197</td> <td>    0.017</td> <td>   -1.182</td> <td> 0.239</td> <td>   -0.053</td> <td>    0.013</td>\n",
       "</tr>\n",
       "</table>\n",
       "<table class=\"simpletable\">\n",
       "<tr>\n",
       "  <th>Omnibus:</th>       <td> 2.633</td> <th>  Durbin-Watson:     </th> <td>   1.784</td>\n",
       "</tr>\n",
       "<tr>\n",
       "  <th>Prob(Omnibus):</th> <td> 0.268</td> <th>  Jarque-Bera (JB):  </th> <td>   2.671</td>\n",
       "</tr>\n",
       "<tr>\n",
       "  <th>Skew:</th>          <td> 0.327</td> <th>  Prob(JB):          </th> <td>   0.263</td>\n",
       "</tr>\n",
       "<tr>\n",
       "  <th>Kurtosis:</th>      <td> 2.722</td> <th>  Cond. No.          </th> <td>    244.</td>\n",
       "</tr>\n",
       "</table><br/><br/>Notes:<br/>[1] Standard Errors assume that the covariance matrix of the errors is correctly specified."
      ],
      "text/plain": [
       "<class 'statsmodels.iolib.summary.Summary'>\n",
       "\"\"\"\n",
       "                            OLS Regression Results                            \n",
       "==============================================================================\n",
       "Dep. Variable:                   Loss   R-squared:                       0.011\n",
       "Model:                            OLS   Adj. R-squared:                  0.003\n",
       "Method:                 Least Squares   F-statistic:                     1.398\n",
       "Date:                Wed, 02 Jun 2021   Prob (F-statistic):              0.239\n",
       "Time:                        18:30:32   Log-Likelihood:                -286.37\n",
       "No. Observations:                 127   AIC:                             576.7\n",
       "Df Residuals:                     125   BIC:                             582.4\n",
       "Df Model:                           1                                         \n",
       "Covariance Type:            nonrobust                                         \n",
       "=======================================================================================\n",
       "                          coef    std err          t      P>|t|      [0.025      0.975]\n",
       "---------------------------------------------------------------------------------------\n",
       "Intercept               5.1173      0.915      5.590      0.000       3.306       6.929\n",
       "PenaltyYardsPerGame    -0.0197      0.017     -1.182      0.239      -0.053       0.013\n",
       "==============================================================================\n",
       "Omnibus:                        2.633   Durbin-Watson:                   1.784\n",
       "Prob(Omnibus):                  0.268   Jarque-Bera (JB):                2.671\n",
       "Skew:                           0.327   Prob(JB):                        0.263\n",
       "Kurtosis:                       2.722   Cond. No.                         244.\n",
       "==============================================================================\n",
       "\n",
       "Notes:\n",
       "[1] Standard Errors assume that the covariance matrix of the errors is correctly specified.\n",
       "\"\"\""
      ]
     },
     "execution_count": 55,
     "metadata": {},
     "output_type": "execute_result"
    }
   ],
   "source": [
    "formula = 'Loss ~ PenaltyYardsPerGame'\n",
    "results = smf.ols(formula, data=cfb2020).fit()\n",
    "results.summary()"
   ]
  },
  {
   "cell_type": "code",
   "execution_count": 56,
   "id": "loose-joint",
   "metadata": {},
   "outputs": [
    {
     "data": {
      "text/html": [
       "<table class=\"simpletable\">\n",
       "<caption>OLS Regression Results</caption>\n",
       "<tr>\n",
       "  <th>Dep. Variable:</th>           <td>Win</td>       <th>  R-squared:         </th> <td>   0.353</td>\n",
       "</tr>\n",
       "<tr>\n",
       "  <th>Model:</th>                   <td>OLS</td>       <th>  Adj. R-squared:    </th> <td>   0.347</td>\n",
       "</tr>\n",
       "<tr>\n",
       "  <th>Method:</th>             <td>Least Squares</td>  <th>  F-statistic:       </th> <td>   68.10</td>\n",
       "</tr>\n",
       "<tr>\n",
       "  <th>Date:</th>             <td>Wed, 02 Jun 2021</td> <th>  Prob (F-statistic):</th> <td>1.85e-13</td>\n",
       "</tr>\n",
       "<tr>\n",
       "  <th>Time:</th>                 <td>18:30:32</td>     <th>  Log-Likelihood:    </th> <td> -278.43</td>\n",
       "</tr>\n",
       "<tr>\n",
       "  <th>No. Observations:</th>      <td>   127</td>      <th>  AIC:               </th> <td>   560.9</td>\n",
       "</tr>\n",
       "<tr>\n",
       "  <th>Df Residuals:</th>          <td>   125</td>      <th>  BIC:               </th> <td>   566.5</td>\n",
       "</tr>\n",
       "<tr>\n",
       "  <th>Df Model:</th>              <td>     1</td>      <th>                     </th>     <td> </td>   \n",
       "</tr>\n",
       "<tr>\n",
       "  <th>Covariance Type:</th>      <td>nonrobust</td>    <th>                     </th>     <td> </td>   \n",
       "</tr>\n",
       "</table>\n",
       "<table class=\"simpletable\">\n",
       "<tr>\n",
       "        <td></td>           <th>coef</th>     <th>std err</th>      <th>t</th>      <th>P>|t|</th>  <th>[0.025</th>    <th>0.975]</th>  \n",
       "</tr>\n",
       "<tr>\n",
       "  <th>Intercept</th>     <td>    0.5867</td> <td>    0.492</td> <td>    1.193</td> <td> 0.235</td> <td>   -0.386</td> <td>    1.560</td>\n",
       "</tr>\n",
       "<tr>\n",
       "  <th>TurnoversGain</th> <td>    0.2959</td> <td>    0.036</td> <td>    8.252</td> <td> 0.000</td> <td>    0.225</td> <td>    0.367</td>\n",
       "</tr>\n",
       "</table>\n",
       "<table class=\"simpletable\">\n",
       "<tr>\n",
       "  <th>Omnibus:</th>       <td> 0.054</td> <th>  Durbin-Watson:     </th> <td>   1.860</td>\n",
       "</tr>\n",
       "<tr>\n",
       "  <th>Prob(Omnibus):</th> <td> 0.973</td> <th>  Jarque-Bera (JB):  </th> <td>   0.141</td>\n",
       "</tr>\n",
       "<tr>\n",
       "  <th>Skew:</th>          <td> 0.047</td> <th>  Prob(JB):          </th> <td>   0.932</td>\n",
       "</tr>\n",
       "<tr>\n",
       "  <th>Kurtosis:</th>      <td> 2.866</td> <th>  Cond. No.          </th> <td>    34.9</td>\n",
       "</tr>\n",
       "</table><br/><br/>Notes:<br/>[1] Standard Errors assume that the covariance matrix of the errors is correctly specified."
      ],
      "text/plain": [
       "<class 'statsmodels.iolib.summary.Summary'>\n",
       "\"\"\"\n",
       "                            OLS Regression Results                            \n",
       "==============================================================================\n",
       "Dep. Variable:                    Win   R-squared:                       0.353\n",
       "Model:                            OLS   Adj. R-squared:                  0.347\n",
       "Method:                 Least Squares   F-statistic:                     68.10\n",
       "Date:                Wed, 02 Jun 2021   Prob (F-statistic):           1.85e-13\n",
       "Time:                        18:30:32   Log-Likelihood:                -278.43\n",
       "No. Observations:                 127   AIC:                             560.9\n",
       "Df Residuals:                     125   BIC:                             566.5\n",
       "Df Model:                           1                                         \n",
       "Covariance Type:            nonrobust                                         \n",
       "=================================================================================\n",
       "                    coef    std err          t      P>|t|      [0.025      0.975]\n",
       "---------------------------------------------------------------------------------\n",
       "Intercept         0.5867      0.492      1.193      0.235      -0.386       1.560\n",
       "TurnoversGain     0.2959      0.036      8.252      0.000       0.225       0.367\n",
       "==============================================================================\n",
       "Omnibus:                        0.054   Durbin-Watson:                   1.860\n",
       "Prob(Omnibus):                  0.973   Jarque-Bera (JB):                0.141\n",
       "Skew:                           0.047   Prob(JB):                        0.932\n",
       "Kurtosis:                       2.866   Cond. No.                         34.9\n",
       "==============================================================================\n",
       "\n",
       "Notes:\n",
       "[1] Standard Errors assume that the covariance matrix of the errors is correctly specified.\n",
       "\"\"\""
      ]
     },
     "execution_count": 56,
     "metadata": {},
     "output_type": "execute_result"
    }
   ],
   "source": [
    "formula = 'Win ~ TurnoversGain'\n",
    "results = smf.ols(formula, data=cfb2020).fit()\n",
    "results.summary()"
   ]
  },
  {
   "cell_type": "code",
   "execution_count": 57,
   "id": "sensitive-postage",
   "metadata": {},
   "outputs": [
    {
     "data": {
      "text/html": [
       "<table class=\"simpletable\">\n",
       "<caption>OLS Regression Results</caption>\n",
       "<tr>\n",
       "  <th>Dep. Variable:</th>          <td>Loss</td>       <th>  R-squared:         </th> <td>   0.310</td>\n",
       "</tr>\n",
       "<tr>\n",
       "  <th>Model:</th>                   <td>OLS</td>       <th>  Adj. R-squared:    </th> <td>   0.305</td>\n",
       "</tr>\n",
       "<tr>\n",
       "  <th>Method:</th>             <td>Least Squares</td>  <th>  F-statistic:       </th> <td>   56.24</td>\n",
       "</tr>\n",
       "<tr>\n",
       "  <th>Date:</th>             <td>Wed, 02 Jun 2021</td> <th>  Prob (F-statistic):</th> <td>1.04e-11</td>\n",
       "</tr>\n",
       "<tr>\n",
       "  <th>Time:</th>                 <td>18:30:32</td>     <th>  Log-Likelihood:    </th> <td> -263.49</td>\n",
       "</tr>\n",
       "<tr>\n",
       "  <th>No. Observations:</th>      <td>   127</td>      <th>  AIC:               </th> <td>   531.0</td>\n",
       "</tr>\n",
       "<tr>\n",
       "  <th>Df Residuals:</th>          <td>   125</td>      <th>  BIC:               </th> <td>   536.7</td>\n",
       "</tr>\n",
       "<tr>\n",
       "  <th>Df Model:</th>              <td>     1</td>      <th>                     </th>     <td> </td>   \n",
       "</tr>\n",
       "<tr>\n",
       "  <th>Covariance Type:</th>      <td>nonrobust</td>    <th>                     </th>     <td> </td>   \n",
       "</tr>\n",
       "</table>\n",
       "<table class=\"simpletable\">\n",
       "<tr>\n",
       "        <td></td>           <th>coef</th>     <th>std err</th>      <th>t</th>      <th>P>|t|</th>  <th>[0.025</th>    <th>0.975]</th>  \n",
       "</tr>\n",
       "<tr>\n",
       "  <th>Intercept</th>     <td>    1.0501</td> <td>    0.437</td> <td>    2.402</td> <td> 0.018</td> <td>    0.185</td> <td>    1.915</td>\n",
       "</tr>\n",
       "<tr>\n",
       "  <th>TurnoversLost</th> <td>    0.2445</td> <td>    0.033</td> <td>    7.499</td> <td> 0.000</td> <td>    0.180</td> <td>    0.309</td>\n",
       "</tr>\n",
       "</table>\n",
       "<table class=\"simpletable\">\n",
       "<tr>\n",
       "  <th>Omnibus:</th>       <td> 1.327</td> <th>  Durbin-Watson:     </th> <td>   1.951</td>\n",
       "</tr>\n",
       "<tr>\n",
       "  <th>Prob(Omnibus):</th> <td> 0.515</td> <th>  Jarque-Bera (JB):  </th> <td>   1.318</td>\n",
       "</tr>\n",
       "<tr>\n",
       "  <th>Skew:</th>          <td> 0.149</td> <th>  Prob(JB):          </th> <td>   0.517</td>\n",
       "</tr>\n",
       "<tr>\n",
       "  <th>Kurtosis:</th>      <td> 2.599</td> <th>  Cond. No.          </th> <td>    34.2</td>\n",
       "</tr>\n",
       "</table><br/><br/>Notes:<br/>[1] Standard Errors assume that the covariance matrix of the errors is correctly specified."
      ],
      "text/plain": [
       "<class 'statsmodels.iolib.summary.Summary'>\n",
       "\"\"\"\n",
       "                            OLS Regression Results                            \n",
       "==============================================================================\n",
       "Dep. Variable:                   Loss   R-squared:                       0.310\n",
       "Model:                            OLS   Adj. R-squared:                  0.305\n",
       "Method:                 Least Squares   F-statistic:                     56.24\n",
       "Date:                Wed, 02 Jun 2021   Prob (F-statistic):           1.04e-11\n",
       "Time:                        18:30:32   Log-Likelihood:                -263.49\n",
       "No. Observations:                 127   AIC:                             531.0\n",
       "Df Residuals:                     125   BIC:                             536.7\n",
       "Df Model:                           1                                         \n",
       "Covariance Type:            nonrobust                                         \n",
       "=================================================================================\n",
       "                    coef    std err          t      P>|t|      [0.025      0.975]\n",
       "---------------------------------------------------------------------------------\n",
       "Intercept         1.0501      0.437      2.402      0.018       0.185       1.915\n",
       "TurnoversLost     0.2445      0.033      7.499      0.000       0.180       0.309\n",
       "==============================================================================\n",
       "Omnibus:                        1.327   Durbin-Watson:                   1.951\n",
       "Prob(Omnibus):                  0.515   Jarque-Bera (JB):                1.318\n",
       "Skew:                           0.149   Prob(JB):                        0.517\n",
       "Kurtosis:                       2.599   Cond. No.                         34.2\n",
       "==============================================================================\n",
       "\n",
       "Notes:\n",
       "[1] Standard Errors assume that the covariance matrix of the errors is correctly specified.\n",
       "\"\"\""
      ]
     },
     "execution_count": 57,
     "metadata": {},
     "output_type": "execute_result"
    }
   ],
   "source": [
    "formula = 'Loss ~ TurnoversLost'\n",
    "results = smf.ols(formula, data=cfb2020).fit()\n",
    "results.summary()"
   ]
  },
  {
   "cell_type": "code",
   "execution_count": 76,
   "id": "analyzed-organ",
   "metadata": {},
   "outputs": [
    {
     "data": {
      "text/html": [
       "<table class=\"simpletable\">\n",
       "<caption>OLS Regression Results</caption>\n",
       "<tr>\n",
       "  <th>Dep. Variable:</th>           <td>Win</td>       <th>  R-squared:         </th> <td>   0.503</td>\n",
       "</tr>\n",
       "<tr>\n",
       "  <th>Model:</th>                   <td>OLS</td>       <th>  Adj. R-squared:    </th> <td>   0.491</td>\n",
       "</tr>\n",
       "<tr>\n",
       "  <th>Method:</th>             <td>Least Squares</td>  <th>  F-statistic:       </th> <td>   41.50</td>\n",
       "</tr>\n",
       "<tr>\n",
       "  <th>Date:</th>             <td>Fri, 04 Jun 2021</td> <th>  Prob (F-statistic):</th> <td>1.34e-18</td>\n",
       "</tr>\n",
       "<tr>\n",
       "  <th>Time:</th>                 <td>10:09:57</td>     <th>  Log-Likelihood:    </th> <td> -261.64</td>\n",
       "</tr>\n",
       "<tr>\n",
       "  <th>No. Observations:</th>      <td>   127</td>      <th>  AIC:               </th> <td>   531.3</td>\n",
       "</tr>\n",
       "<tr>\n",
       "  <th>Df Residuals:</th>          <td>   123</td>      <th>  BIC:               </th> <td>   542.7</td>\n",
       "</tr>\n",
       "<tr>\n",
       "  <th>Df Model:</th>              <td>     3</td>      <th>                     </th>     <td> </td>   \n",
       "</tr>\n",
       "<tr>\n",
       "  <th>Covariance Type:</th>      <td>nonrobust</td>    <th>                     </th>     <td> </td>   \n",
       "</tr>\n",
       "</table>\n",
       "<table class=\"simpletable\">\n",
       "<tr>\n",
       "           <td></td>              <th>coef</th>     <th>std err</th>      <th>t</th>      <th>P>|t|</th>  <th>[0.025</th>    <th>0.975]</th>  \n",
       "</tr>\n",
       "<tr>\n",
       "  <th>Intercept</th>           <td>    7.0878</td> <td>    1.470</td> <td>    4.820</td> <td> 0.000</td> <td>    4.177</td> <td>    9.998</td>\n",
       "</tr>\n",
       "<tr>\n",
       "  <th>TurnoversGain</th>       <td>    0.2748</td> <td>    0.032</td> <td>    8.621</td> <td> 0.000</td> <td>    0.212</td> <td>    0.338</td>\n",
       "</tr>\n",
       "<tr>\n",
       "  <th>PenaltyYardsPerGame</th> <td>    0.0305</td> <td>    0.014</td> <td>    2.166</td> <td> 0.032</td> <td>    0.003</td> <td>    0.058</td>\n",
       "</tr>\n",
       "<tr>\n",
       "  <th>FirstDownPerGame</th>    <td>   -0.1877</td> <td>    0.031</td> <td>   -6.011</td> <td> 0.000</td> <td>   -0.250</td> <td>   -0.126</td>\n",
       "</tr>\n",
       "<tr>\n",
       "  <th>OppFirstDownPerGame</th> <td>   -0.1877</td> <td>    0.031</td> <td>   -6.011</td> <td> 0.000</td> <td>   -0.250</td> <td>   -0.126</td>\n",
       "</tr>\n",
       "</table>\n",
       "<table class=\"simpletable\">\n",
       "<tr>\n",
       "  <th>Omnibus:</th>       <td> 0.908</td> <th>  Durbin-Watson:     </th> <td>   1.921</td>\n",
       "</tr>\n",
       "<tr>\n",
       "  <th>Prob(Omnibus):</th> <td> 0.635</td> <th>  Jarque-Bera (JB):  </th> <td>   1.008</td>\n",
       "</tr>\n",
       "<tr>\n",
       "  <th>Skew:</th>          <td> 0.186</td> <th>  Prob(JB):          </th> <td>   0.604</td>\n",
       "</tr>\n",
       "<tr>\n",
       "  <th>Kurtosis:</th>      <td> 2.770</td> <th>  Cond. No.          </th> <td>6.61e+17</td>\n",
       "</tr>\n",
       "</table><br/><br/>Notes:<br/>[1] Standard Errors assume that the covariance matrix of the errors is correctly specified.<br/>[2] The smallest eigenvalue is 1.17e-30. This might indicate that there are<br/>strong multicollinearity problems or that the design matrix is singular."
      ],
      "text/plain": [
       "<class 'statsmodels.iolib.summary.Summary'>\n",
       "\"\"\"\n",
       "                            OLS Regression Results                            \n",
       "==============================================================================\n",
       "Dep. Variable:                    Win   R-squared:                       0.503\n",
       "Model:                            OLS   Adj. R-squared:                  0.491\n",
       "Method:                 Least Squares   F-statistic:                     41.50\n",
       "Date:                Fri, 04 Jun 2021   Prob (F-statistic):           1.34e-18\n",
       "Time:                        10:09:57   Log-Likelihood:                -261.64\n",
       "No. Observations:                 127   AIC:                             531.3\n",
       "Df Residuals:                     123   BIC:                             542.7\n",
       "Df Model:                           3                                         \n",
       "Covariance Type:            nonrobust                                         \n",
       "=======================================================================================\n",
       "                          coef    std err          t      P>|t|      [0.025      0.975]\n",
       "---------------------------------------------------------------------------------------\n",
       "Intercept               7.0878      1.470      4.820      0.000       4.177       9.998\n",
       "TurnoversGain           0.2748      0.032      8.621      0.000       0.212       0.338\n",
       "PenaltyYardsPerGame     0.0305      0.014      2.166      0.032       0.003       0.058\n",
       "FirstDownPerGame       -0.1877      0.031     -6.011      0.000      -0.250      -0.126\n",
       "OppFirstDownPerGame    -0.1877      0.031     -6.011      0.000      -0.250      -0.126\n",
       "==============================================================================\n",
       "Omnibus:                        0.908   Durbin-Watson:                   1.921\n",
       "Prob(Omnibus):                  0.635   Jarque-Bera (JB):                1.008\n",
       "Skew:                           0.186   Prob(JB):                        0.604\n",
       "Kurtosis:                       2.770   Cond. No.                     6.61e+17\n",
       "==============================================================================\n",
       "\n",
       "Notes:\n",
       "[1] Standard Errors assume that the covariance matrix of the errors is correctly specified.\n",
       "[2] The smallest eigenvalue is 1.17e-30. This might indicate that there are\n",
       "strong multicollinearity problems or that the design matrix is singular.\n",
       "\"\"\""
      ]
     },
     "execution_count": 76,
     "metadata": {},
     "output_type": "execute_result"
    }
   ],
   "source": [
    "formula = 'Win ~ TurnoversGain + PenaltyYardsPerGame + FirstDownPerGame + OppFirstDownPerGame'\n",
    "results = smf.ols(formula, data=cfb2020).fit()\n",
    "results.summary()"
   ]
  },
  {
   "cell_type": "code",
   "execution_count": null,
   "id": "impressive-findings",
   "metadata": {},
   "outputs": [],
   "source": []
  }
 ],
 "metadata": {
  "kernelspec": {
   "display_name": "Python 3",
   "language": "python",
   "name": "python3"
  },
  "language_info": {
   "codemirror_mode": {
    "name": "ipython",
    "version": 3
   },
   "file_extension": ".py",
   "mimetype": "text/x-python",
   "name": "python",
   "nbconvert_exporter": "python",
   "pygments_lexer": "ipython3",
   "version": "3.7.6"
  }
 },
 "nbformat": 4,
 "nbformat_minor": 5
}
